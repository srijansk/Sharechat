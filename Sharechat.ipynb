{
 "cells": [
  {
   "cell_type": "code",
   "execution_count": 29,
   "metadata": {
    "collapsed": true
   },
   "outputs": [],
   "source": [
    "import pandas as pd\n",
    "from collections import Counter\n",
    "from __future__ import division\n",
    "import seaborn as sns\n",
    "import matplotlib.pyplot as plt\n",
    "import matplotlib.pylab as plt_time\n",
    "from datetime import datetime, timedelta\n",
    "%matplotlib inline\n",
    "\n",
    "from matplotlib.pylab import rcParams\n",
    "rcParams['figure.figsize'] = 15, 6\n",
    "\n",
    "p = sns.color_palette()"
   ]
  },
  {
   "cell_type": "code",
   "execution_count": 2,
   "metadata": {
    "collapsed": true
   },
   "outputs": [],
   "source": [
    "data_data = pd.read_csv('data.csv', header=None)"
   ]
  },
  {
   "cell_type": "code",
   "execution_count": 3,
   "metadata": {
    "collapsed": true
   },
   "outputs": [],
   "source": [
    "data_newsignup = pd.read_csv('newSignUp.csv', header=None)"
   ]
  },
  {
   "cell_type": "code",
   "execution_count": 4,
   "metadata": {
    "collapsed": false
   },
   "outputs": [
    {
     "data": {
      "text/html": [
       "<div>\n",
       "<table border=\"1\" class=\"dataframe\">\n",
       "  <thead>\n",
       "    <tr style=\"text-align: right;\">\n",
       "      <th></th>\n",
       "      <th>timeOfInvite</th>\n",
       "      <th>userId</th>\n",
       "    </tr>\n",
       "  </thead>\n",
       "  <tbody>\n",
       "    <tr>\n",
       "      <th>0</th>\n",
       "      <td>1480510108336</td>\n",
       "      <td>e520a6a5abeff22149ca9ccf9070cd43</td>\n",
       "    </tr>\n",
       "    <tr>\n",
       "      <th>1</th>\n",
       "      <td>1480510107994</td>\n",
       "      <td>2c2612300f4cb1e596452d98a4384a20</td>\n",
       "    </tr>\n",
       "    <tr>\n",
       "      <th>2</th>\n",
       "      <td>1480510112350</td>\n",
       "      <td>b6811a75d115329d76b33cab3acbda21</td>\n",
       "    </tr>\n",
       "    <tr>\n",
       "      <th>3</th>\n",
       "      <td>1480510109700</td>\n",
       "      <td>e7dcc2c312417b23d45a71ed331cf09d</td>\n",
       "    </tr>\n",
       "    <tr>\n",
       "      <th>4</th>\n",
       "      <td>1480510108558</td>\n",
       "      <td>86ea3eda601883a75f43318d29792aa0</td>\n",
       "    </tr>\n",
       "  </tbody>\n",
       "</table>\n",
       "</div>"
      ],
      "text/plain": [
       "    timeOfInvite                            userId\n",
       "0  1480510108336  e520a6a5abeff22149ca9ccf9070cd43\n",
       "1  1480510107994  2c2612300f4cb1e596452d98a4384a20\n",
       "2  1480510112350  b6811a75d115329d76b33cab3acbda21\n",
       "3  1480510109700  e7dcc2c312417b23d45a71ed331cf09d\n",
       "4  1480510108558  86ea3eda601883a75f43318d29792aa0"
      ]
     },
     "execution_count": 4,
     "metadata": {},
     "output_type": "execute_result"
    }
   ],
   "source": [
    "# Renaming the columns of the dataframes\n",
    "data_data.columns = ['timeOfInvite', 'userId']\n",
    "# data_data['timeOfInvite'] = data_data['timeOfInvite']/1000\n",
    "data_data.head()"
   ]
  },
  {
   "cell_type": "code",
   "execution_count": 5,
   "metadata": {
    "collapsed": false
   },
   "outputs": [
    {
     "data": {
      "text/html": [
       "<div>\n",
       "<table border=\"1\" class=\"dataframe\">\n",
       "  <thead>\n",
       "    <tr style=\"text-align: right;\">\n",
       "      <th></th>\n",
       "      <th>userId</th>\n",
       "      <th>timeOfSignUp</th>\n",
       "      <th>ifInvited</th>\n",
       "    </tr>\n",
       "  </thead>\n",
       "  <tbody>\n",
       "    <tr>\n",
       "      <th>776814</th>\n",
       "      <td>69e1d4ab4c3b9443e036d90d2d10c9bc</td>\n",
       "      <td>1482604047</td>\n",
       "      <td>0</td>\n",
       "    </tr>\n",
       "    <tr>\n",
       "      <th>776815</th>\n",
       "      <td>c9991b393179a3f56fa3f239ec243f9e</td>\n",
       "      <td>1482603683</td>\n",
       "      <td>0</td>\n",
       "    </tr>\n",
       "    <tr>\n",
       "      <th>776816</th>\n",
       "      <td>a7fc12578d3c2d4fb2b8ee1a78f839b8</td>\n",
       "      <td>1482603709</td>\n",
       "      <td>1</td>\n",
       "    </tr>\n",
       "    <tr>\n",
       "      <th>776817</th>\n",
       "      <td>28f3315671d0b7e860ac5cc54c3d69dd</td>\n",
       "      <td>1482603967</td>\n",
       "      <td>0</td>\n",
       "    </tr>\n",
       "    <tr>\n",
       "      <th>776818</th>\n",
       "      <td>b823f85b713229fcf34bc59d9365786b</td>\n",
       "      <td>1482603852</td>\n",
       "      <td>0</td>\n",
       "    </tr>\n",
       "  </tbody>\n",
       "</table>\n",
       "</div>"
      ],
      "text/plain": [
       "                                  userId  timeOfSignUp  ifInvited\n",
       "776814  69e1d4ab4c3b9443e036d90d2d10c9bc    1482604047          0\n",
       "776815  c9991b393179a3f56fa3f239ec243f9e    1482603683          0\n",
       "776816  a7fc12578d3c2d4fb2b8ee1a78f839b8    1482603709          1\n",
       "776817  28f3315671d0b7e860ac5cc54c3d69dd    1482603967          0\n",
       "776818  b823f85b713229fcf34bc59d9365786b    1482603852          0"
      ]
     },
     "execution_count": 5,
     "metadata": {},
     "output_type": "execute_result"
    }
   ],
   "source": [
    "data_newsignup.columns = ['userId', 'timeOfSignUp', 'ifInvited']\n",
    "data_newsignup.tail()"
   ]
  },
  {
   "cell_type": "markdown",
   "metadata": {},
   "source": [
    "#### What is the data that we have ?"
   ]
  },
  {
   "cell_type": "raw",
   "metadata": {},
   "source": [
    "The data frame data_data has information about all the users swho shared an invite on whatsapp and the time at which the invite was sent.\n",
    "\n",
    "The data frame data_newsignup has data about users with the information:\n",
    "1) The time at which they signed up\n",
    "2) whether they signed up clicking on an invitation sent by another user"
   ]
  },
  {
   "cell_type": "code",
   "execution_count": 6,
   "metadata": {
    "collapsed": false
   },
   "outputs": [
    {
     "name": "stdout",
     "output_type": "stream",
     "text": [
      "386755\n",
      "776819\n"
     ]
    }
   ],
   "source": [
    "print len(set(data_data.iloc[:,1]) & set(data_newsignup.iloc[:,0]))\n",
    "print min(len(data_data), len(data_newsignup))"
   ]
  },
  {
   "cell_type": "code",
   "execution_count": 7,
   "metadata": {
    "collapsed": false
   },
   "outputs": [
    {
     "data": {
      "text/plain": [
       "Counter({0: 645355, 1: 131464})"
      ]
     },
     "execution_count": 7,
     "metadata": {},
     "output_type": "execute_result"
    },
    {
     "data": {
      "image/png": "[encoded data removed]",
      "text/plain": [
       "<matplotlib.figure.Figure at 0xa7e9588>"
      ]
     },
     "metadata": {},
     "output_type": "display_data"
    }
   ],
   "source": [
    "data_newsignup.ifInvited.value_counts().plot(kind='bar')\n",
    "Counter(data_newsignup.ifInvited)\n"
   ]
  },
  {
   "cell_type": "code",
   "execution_count": 8,
   "metadata": {
    "collapsed": false
   },
   "outputs": [
    {
     "name": "stdout",
     "output_type": "stream",
     "text": [
      "776819\n",
      "776819\n"
     ]
    }
   ],
   "source": [
    "# Unique values in dataset\n",
    "print len(list(data_newsignup.userId))\n",
    "print len(set(data_newsignup.userId))\n",
    "\n",
    "# There are no duplicate users in the data set data_newsignup"
   ]
  },
  {
   "cell_type": "code",
   "execution_count": 9,
   "metadata": {
    "collapsed": false
   },
   "outputs": [
    {
     "name": "stdout",
     "output_type": "stream",
     "text": [
      "12700394\n",
      "868546\n"
     ]
    }
   ],
   "source": [
    "# Unique values in dataset\n",
    "print len(list(data_data.userId))\n",
    "print len(set(data_data.userId))\n",
    "\n",
    "# There are obviously duplicate users in this dataset. One user may have sent multiple invites.\n",
    "# From this data we can extract the average number of invites sent by a user\n",
    "# Also by merging the two datasets,we can calculte the time taken between the signup and sending the invite for certain users\n",
    "# Since we want to know the no of invitaions sent within 20 days of signup this exercise needs to be done"
   ]
  },
  {
   "cell_type": "code",
   "execution_count": 34,
   "metadata": {
    "collapsed": true
   },
   "outputs": [],
   "source": [
    "temp_df = pd.merge(data_newsignup,data_data,how='inner',on=['userId'])"
   ]
  },
  {
   "cell_type": "code",
   "execution_count": 35,
   "metadata": {
    "collapsed": false
   },
   "outputs": [
    {
     "data": {
      "text/html": [
       "<div>\n",
       "<table border=\"1\" class=\"dataframe\">\n",
       "  <thead>\n",
       "    <tr style=\"text-align: right;\">\n",
       "      <th></th>\n",
       "      <th>userId</th>\n",
       "      <th>timeOfSignUp</th>\n",
       "      <th>timeOfInvite</th>\n",
       "      <th>ifInvited</th>\n",
       "      <th>TimeTakenForInvite</th>\n",
       "      <th>NoOfDays</th>\n",
       "    </tr>\n",
       "  </thead>\n",
       "  <tbody>\n",
       "    <tr>\n",
       "      <th>0</th>\n",
       "      <td>2196b3343292abd76c6429161ff1817a</td>\n",
       "      <td>1480271670</td>\n",
       "      <td>1480609027125</td>\n",
       "      <td>0</td>\n",
       "      <td>337357125</td>\n",
       "      <td>4.0</td>\n",
       "    </tr>\n",
       "    <tr>\n",
       "      <th>1</th>\n",
       "      <td>2196b3343292abd76c6429161ff1817a</td>\n",
       "      <td>1480271670</td>\n",
       "      <td>1480609056552</td>\n",
       "      <td>0</td>\n",
       "      <td>337386552</td>\n",
       "      <td>4.0</td>\n",
       "    </tr>\n",
       "    <tr>\n",
       "      <th>2</th>\n",
       "      <td>2196b3343292abd76c6429161ff1817a</td>\n",
       "      <td>1480271670</td>\n",
       "      <td>1480609156510</td>\n",
       "      <td>0</td>\n",
       "      <td>337486510</td>\n",
       "      <td>4.0</td>\n",
       "    </tr>\n",
       "    <tr>\n",
       "      <th>3</th>\n",
       "      <td>2196b3343292abd76c6429161ff1817a</td>\n",
       "      <td>1480271670</td>\n",
       "      <td>1480609225741</td>\n",
       "      <td>0</td>\n",
       "      <td>337555741</td>\n",
       "      <td>4.0</td>\n",
       "    </tr>\n",
       "    <tr>\n",
       "      <th>4</th>\n",
       "      <td>2196b3343292abd76c6429161ff1817a</td>\n",
       "      <td>1480271670</td>\n",
       "      <td>1480609248397</td>\n",
       "      <td>0</td>\n",
       "      <td>337578397</td>\n",
       "      <td>4.0</td>\n",
       "    </tr>\n",
       "  </tbody>\n",
       "</table>\n",
       "</div>"
      ],
      "text/plain": [
       "                             userId  timeOfSignUp   timeOfInvite  ifInvited  \\\n",
       "0  2196b3343292abd76c6429161ff1817a    1480271670  1480609027125          0   \n",
       "1  2196b3343292abd76c6429161ff1817a    1480271670  1480609056552          0   \n",
       "2  2196b3343292abd76c6429161ff1817a    1480271670  1480609156510          0   \n",
       "3  2196b3343292abd76c6429161ff1817a    1480271670  1480609225741          0   \n",
       "4  2196b3343292abd76c6429161ff1817a    1480271670  1480609248397          0   \n",
       "\n",
       "   TimeTakenForInvite  NoOfDays  \n",
       "0           337357125       4.0  \n",
       "1           337386552       4.0  \n",
       "2           337486510       4.0  \n",
       "3           337555741       4.0  \n",
       "4           337578397       4.0  "
      ]
     },
     "execution_count": 35,
     "metadata": {},
     "output_type": "execute_result"
    }
   ],
   "source": [
    "temp_df = temp_df[['userId','timeOfSignUp','timeOfInvite','ifInvited']]\n",
    "temp_df['TimeTakenForInvite'] = temp_df['timeOfInvite'] - temp_df['timeOfSignUp']*1000\n",
    "temp_df['NoOfDays'] = [round(item/(1000*60*60*24)) for item in temp_df['TimeTakenForInvite']]\n",
    "temp_df.head()"
   ]
  },
  {
   "cell_type": "code",
   "execution_count": 12,
   "metadata": {
    "collapsed": false
   },
   "outputs": [
    {
     "data": {
      "text/plain": [
       "<matplotlib.text.Text at 0x2ebedef0>"
      ]
     },
     "execution_count": 12,
     "metadata": {},
     "output_type": "execute_result"
    },
    {
     "data": {
      "image/png": "[encoded data removed]",
      "text/plain": [
       "<matplotlib.figure.Figure at 0x428ed68>"
      ]
     },
     "metadata": {},
     "output_type": "display_data"
    }
   ],
   "source": [
    "# ASSUMPTION: We'll treat different invitations sent by a user as different observations\n",
    "# Visualizing the distribution of the number of days within which a user sends an invite\n",
    "temp_df.NoOfDays = temp_df.NoOfDays.astype(int)\n",
    "days = temp_df.NoOfDays.value_counts()\n",
    "\n",
    "plt.figure(figsize=(12,8))\n",
    "sns.barplot(days.index, days.values, alpha=0.8, color=p[2])\n",
    "plt.xlabel('No of days to send an invite', fontsize=14)\n",
    "plt.ylabel('No of users', fontsize=14)\n",
    "\n",
    "del days"
   ]
  },
  {
   "cell_type": "raw",
   "metadata": {},
   "source": [
    "From this plot it is very evident that as the number of days passes, the probability of a user sending an invite to \n",
    "someone else also goes down. There's hardly anyone who sends an invite after one month of signing up"
   ]
  },
  {
   "cell_type": "markdown",
   "metadata": {},
   "source": [
    "### Average number of invites sent by a user within 20 days of signing up"
   ]
  },
  {
   "cell_type": "code",
   "execution_count": 43,
   "metadata": {
    "collapsed": false
   },
   "outputs": [
    {
     "name": "stdout",
     "output_type": "stream",
     "text": [
      "count    383400.000000\n",
      "mean         12.273938\n",
      "std          27.319984\n",
      "min           1.000000\n",
      "25%           2.000000\n",
      "50%           4.000000\n",
      "75%          12.000000\n",
      "max        3830.000000\n",
      "Name: NoOfDays, dtype: float64\n"
     ]
    },
    {
     "data": {
      "image/png": "[encoded data removed]",
      "text/plain": [
       "<matplotlib.figure.Figure at 0x3abec518>"
      ]
     },
     "metadata": {},
     "output_type": "display_data"
    }
   ],
   "source": [
    "temp_df2 = temp_df[temp_df.NoOfDays <= 20]\n",
    "share_stats = temp_df2.groupby('userId')['NoOfDays'].count()\n",
    "# share_stats\n",
    "plt.figure(figsize=(12,8))\n",
    "sns.distplot(share_stats[share_stats < 50])\n",
    "plt.xlabel('No of invitations sent', fontsize=14)\n",
    "\n",
    "print share_stats.describe()"
   ]
  },
  {
   "cell_type": "raw",
   "metadata": {},
   "source": [
    "The average number of invites per user (within 20 days of them signing up on the platform) turns out to be 12.27\n",
    "Also a a plot of the number of invites (only less than 50) shows peakedness and the distribution is positively skewed \n",
    "\n",
    "One thing worth noting is, there are 3 users with shares more than 1000\n",
    "Either this user likes the app very much or it is one of company's employees "
   ]
  },
  {
   "cell_type": "code",
   "execution_count": 38,
   "metadata": {
    "collapsed": false
   },
   "outputs": [
    {
     "data": {
      "text/plain": [
       "userId\n",
       "090a00d12b93c33858fc261f52a1ed70    3830\n",
       "3f902c1286f29ebfe25e2face8d0217e    1163\n",
       "de4658178c35fe3e0718429d40e97f0e    1031\n",
       "Name: NoOfDays, dtype: int64"
      ]
     },
     "execution_count": 38,
     "metadata": {},
     "output_type": "execute_result"
    }
   ],
   "source": [
    "# These three users stand out with more than 1000 shares\n",
    "share_stats[share_stats>1000]"
   ]
  },
  {
   "cell_type": "markdown",
   "metadata": {},
   "source": [
    "### Average number of new people who join Q by a user’s invitation in his/her first 20 days"
   ]
  },
  {
   "cell_type": "raw",
   "metadata": {},
   "source": [
    "We have extracted the data for all the users who have sent invites within 20 days of them signing up.\n",
    "\n",
    "In order to answer the above question, we need to know the userId's of the users to whom the inviatatios have been sent\n",
    "from each of the userId's. Then we can simply check the ifInvited value corresponding to each userId."
   ]
  },
  {
   "cell_type": "raw",
   "metadata": {},
   "source": [
    "We'll see the time of invite of each user.\n",
    "His invite will be valid for 3-5 days.\n",
    "Check all the new signups within this date range."
   ]
  },
  {
   "cell_type": "code",
   "execution_count": 61,
   "metadata": {
    "collapsed": false
   },
   "outputs": [],
   "source": [
    "# Subset the dataframe temp_df such that now there are only those users who have sent an invite within 20 days of their signup\n",
    "# Create a new dataframe from this containing unique users with the average of time of invites sent by him\n",
    "\n",
    "temp2 = temp_df[temp_df.NoOfDays <= 20].groupby('userId')['timeOfInvite'].mean()\n",
    "temp2 = pd.DataFrame({'userId':temp2.index, 'MeanInviteTime':temp2.values})\n",
    "temp2 = temp2[['userId', 'MeanInviteTime']]"
   ]
  },
  {
   "cell_type": "code",
   "execution_count": 62,
   "metadata": {
    "collapsed": false
   },
   "outputs": [
    {
     "data": {
      "text/html": [
       "<div>\n",
       "<table border=\"1\" class=\"dataframe\">\n",
       "  <thead>\n",
       "    <tr style=\"text-align: right;\">\n",
       "      <th></th>\n",
       "      <th>userId</th>\n",
       "      <th>MeanInviteTime</th>\n",
       "    </tr>\n",
       "  </thead>\n",
       "  <tbody>\n",
       "    <tr>\n",
       "      <th>0</th>\n",
       "      <td>00002eb25d60a09c318efbd0797bffb5</td>\n",
       "      <td>1481213139425</td>\n",
       "    </tr>\n",
       "    <tr>\n",
       "      <th>1</th>\n",
       "      <td>0000584b8cdaeaa6b3de82be509db839</td>\n",
       "      <td>1480609534867</td>\n",
       "    </tr>\n",
       "    <tr>\n",
       "      <th>2</th>\n",
       "      <td>0000a9af8b6b9cc9e41f53322a8b8cf1</td>\n",
       "      <td>1481704191662</td>\n",
       "    </tr>\n",
       "    <tr>\n",
       "      <th>3</th>\n",
       "      <td>0000c20705a45563f2ec6a53088c2a30</td>\n",
       "      <td>1481805745610</td>\n",
       "    </tr>\n",
       "    <tr>\n",
       "      <th>4</th>\n",
       "      <td>0000d299ce46c8375f29f7bb792b9eae</td>\n",
       "      <td>1481874579655</td>\n",
       "    </tr>\n",
       "  </tbody>\n",
       "</table>\n",
       "</div>"
      ],
      "text/plain": [
       "                             userId  MeanInviteTime\n",
       "0  00002eb25d60a09c318efbd0797bffb5   1481213139425\n",
       "1  0000584b8cdaeaa6b3de82be509db839   1480609534867\n",
       "2  0000a9af8b6b9cc9e41f53322a8b8cf1   1481704191662\n",
       "3  0000c20705a45563f2ec6a53088c2a30   1481805745610\n",
       "4  0000d299ce46c8375f29f7bb792b9eae   1481874579655"
      ]
     },
     "execution_count": 62,
     "metadata": {},
     "output_type": "execute_result"
    }
   ],
   "source": [
    "temp2.head()"
   ]
  },
  {
   "cell_type": "raw",
   "metadata": {},
   "source": [
    "Now this invite is valid till 3-5 days. We'll take 4 days for simplicity. \n",
    "We'll add 4 days to this mean invite time.\n",
    "Then we'll check the time of all the new signups through invitations. If the time of the signup lies between mean invite time and the time 4 days ahead, we'll consider the user to have signed up from the link shared by the previous user.\n",
    "\n",
    "This way we'll have a number for each of the distinct users in temp2.\n",
    "Finally we take the average to come up with the average number of signups using the link shared by a user within 20 days of him signing up"
   ]
  },
  {
   "cell_type": "code",
   "execution_count": 77,
   "metadata": {
    "collapsed": false
   },
   "outputs": [],
   "source": [
    "# Function to get total number of possible signups using the link shared by a user \n",
    "\n",
    "def get_average_signups(row):\n",
    "    mean_time = row['MeanInviteTime'] / 1000            # converting milliseconds to seconds\n",
    "    max_time = mean_time + 4*24*60*60                   # The time till which the invite will be valid\n",
    "    probable_signups = data_newsignup_invited[(data_newsignup_invited.timeOfSignUp >= mean_time) & (data_newsignup_invited.timeOfSignUp <= max_time)]\n",
    "#     data_newsignup_invited.ix[probable_signups.index, 'flag'] = 1\n",
    "    return probable_signups.shape[0] \n",
    "    \n",
    "#     return data_newsignup.shape[0]"
   ]
  },
  {
   "cell_type": "code",
   "execution_count": 65,
   "metadata": {
    "collapsed": false
   },
   "outputs": [],
   "source": [
    "temp2[\"TotalNumberOfSignUps\"] = temp2.apply(lambda row: get_average_signups(row),axis=1)"
   ]
  },
  {
   "cell_type": "code",
   "execution_count": 120,
   "metadata": {
    "collapsed": true
   },
   "outputs": [],
   "source": [
    "tot_signups_approach1 = temp2.TotalNumberOfSignUps"
   ]
  },
  {
   "cell_type": "code",
   "execution_count": 137,
   "metadata": {
    "collapsed": false
   },
   "outputs": [
    {
     "name": "stderr",
     "output_type": "stream",
     "text": [
      "C:\\Users\\a566280\\AppData\\Local\\Continuum\\Anaconda2\\lib\\site-packages\\ipykernel\\__main__.py:5: SettingWithCopyWarning: \n",
      "A value is trying to be set on a copy of a slice from a DataFrame.\n",
      "Try using .loc[row_indexer,col_indexer] = value instead\n",
      "\n",
      "See the caveats in the documentation: http://pandas.pydata.org/pandas-docs/stable/indexing.html#indexing-view-versus-copy\n"
     ]
    }
   ],
   "source": [
    "# get_average_signups()\n",
    "# data_newsignup['flag'] = 0\n",
    "# data_newsignup.head()\n",
    "data_newsignup_invited = data_newsignup[data_newsignup.ifInvited==1]\n",
    "data_newsignup_invited['flag'] = 0\n",
    "data_newsignup_invited = data_newsignup_invited[['userId', 'timeOfSignUp', 'flag']]"
   ]
  },
  {
   "cell_type": "raw",
   "metadata": {},
   "source": [
    "For now, we are considering all the possible signups for an invite shared.\n",
    "We can add one more component to this. We can see that if a new signup has the possibility of signing up through multiple links, then instead of adding +1 for each invite shared by the user we can update the value by the probability.\n",
    "\n",
    "For eg. If user 123 can sign through 3 links shared by A,B and C\n",
    "Then we'll update the total number of signups column for A by 1/3 and not by 1 as we're doing right now"
   ]
  },
  {
   "cell_type": "code",
   "execution_count": 67,
   "metadata": {
    "collapsed": false
   },
   "outputs": [
    {
     "data": {
      "text/plain": [
       "count    383400.000000\n",
       "mean      16947.336701\n",
       "std        7234.822284\n",
       "min           0.000000\n",
       "25%       17470.750000\n",
       "50%       19247.000000\n",
       "75%       21751.000000\n",
       "max       23007.000000\n",
       "Name: TotalNumberOfSignUps, dtype: float64"
      ]
     },
     "execution_count": 67,
     "metadata": {},
     "output_type": "execute_result"
    }
   ],
   "source": [
    "temp2['TotalNumberOfSignUps'].describe()"
   ]
  },
  {
   "cell_type": "code",
   "execution_count": 70,
   "metadata": {
    "collapsed": false
   },
   "outputs": [
    {
     "name": "stdout",
     "output_type": "stream",
     "text": [
      "6497608891\n",
      "776819\n"
     ]
    }
   ],
   "source": [
    "print sum(temp2['TotalNumberOfSignUps'])\n",
    "print data_newsignup.shape[0]"
   ]
  },
  {
   "cell_type": "code",
   "execution_count": 73,
   "metadata": {
    "collapsed": false
   },
   "outputs": [
    {
     "data": {
      "image/png": "[encoded data removed]",
      "text/plain": [
       "<matplotlib.figure.Figure at 0x3064be80>"
      ]
     },
     "metadata": {},
     "output_type": "display_data"
    }
   ],
   "source": [
    "# Visualizing the distribution of the number of days within which a user sends an invite\n",
    "# temp2.TotalNumberOfSignUps = temp_df.NoOfDays.astype(int)\n",
    "total_su = temp2.TotalNumberOfSignUps.value_counts()\n",
    "\n",
    "plt.figure(figsize=(12,8))\n",
    "# sns.barplot(total_su.index, total_su.values, alpha=0.8, color=p[2])\n",
    "sns.distplot(temp2.TotalNumberOfSignUps)\n",
    "plt.xlabel('No of signups using the shared link', fontsize=14)\n",
    "# plt.ylabel('No of users', fontsize=14)\n",
    "\n",
    "del total_su"
   ]
  },
  {
   "cell_type": "raw",
   "metadata": {},
   "source": [
    "Comments: These numbers surely are very inflated as is reflected in the numbers above. These numbers give an indication but do not exactly answer the question. In order to correct this, we can add the probability component or update the score for only one user for every new sign up. Now with this approach there's a lot of overlap.\n",
    "\n",
    "Or we can associate a flag with each new sign up user. If the new sign up has already been flagged as joining Q using the link shared by one of the users, then we won't consider this new sign up for further calculation for other users. \n",
    "\n",
    "All the approaches discussed above require updation of the observations sequentially and since the dataset is very large, it would take a lot of computational time hence, I'm not going forward with the implementation."
   ]
  },
  {
   "cell_type": "code",
   "execution_count": 124,
   "metadata": {
    "collapsed": true
   },
   "outputs": [],
   "source": [
    "# Similar function as the previous one just that this time there won't be overlapping of the observations\n",
    "\n",
    "def get_average_signups_new(row):\n",
    "    mean_time = row['MeanInviteTime'] / 1000            # converting milliseconds to seconds\n",
    "    max_time = mean_time + 4*24*60*60                   # The time till which the invite will be valid\n",
    "    probable_signups = data_newsignup_invited[(data_newsignup_invited.timeOfSignUp >= mean_time) & (data_newsignup_invited.timeOfSignUp <= max_time) & (data_newsignup_invited.flag==0)]\n",
    "    data_newsignup_invited.ix[probable_signups.index, 'flag'] = 1\n",
    "    return probable_signups.shape[0] "
   ]
  },
  {
   "cell_type": "code",
   "execution_count": 143,
   "metadata": {
    "collapsed": false
   },
   "outputs": [],
   "source": [
    "temp2[\"TotalNumberOfSignUps\"] = temp2.apply(lambda row: get_average_signups_new(row),axis=1)"
   ]
  },
  {
   "cell_type": "code",
   "execution_count": 147,
   "metadata": {
    "collapsed": false
   },
   "outputs": [
    {
     "data": {
      "text/plain": [
       "count    383400.000000\n",
       "mean          0.331022\n",
       "std          69.653056\n",
       "min           0.000000\n",
       "25%           0.000000\n",
       "50%           0.000000\n",
       "75%           0.000000\n",
       "max       21644.000000\n",
       "Name: TotalNumberOfSignUps, dtype: float64"
      ]
     },
     "execution_count": 147,
     "metadata": {},
     "output_type": "execute_result"
    }
   ],
   "source": [
    "temp2['TotalNumberOfSignUps'].describe()"
   ]
  },
  {
   "cell_type": "code",
   "execution_count": 156,
   "metadata": {
    "collapsed": false
   },
   "outputs": [
    {
     "data": {
      "text/plain": [
       "383384"
      ]
     },
     "execution_count": 156,
     "metadata": {},
     "output_type": "execute_result"
    }
   ],
   "source": [
    "temp2[temp2.TotalNumberOfSignUps == 0 ].shape[0]\n",
    "# Using the newer approach there are these many people with no signups using the link they shared"
   ]
  },
  {
   "cell_type": "code",
   "execution_count": 161,
   "metadata": {
    "collapsed": false
   },
   "outputs": [
    {
     "data": {
      "text/plain": [
       "count       16.000000\n",
       "mean      7932.125000\n",
       "std       7542.868666\n",
       "min         36.000000\n",
       "25%       1937.000000\n",
       "50%       4691.000000\n",
       "75%      13026.750000\n",
       "max      21644.000000\n",
       "Name: TotalNumberOfSignUps, dtype: float64"
      ]
     },
     "execution_count": 161,
     "metadata": {},
     "output_type": "execute_result"
    }
   ],
   "source": [
    "temp2[temp2.TotalNumberOfSignUps > 0].TotalNumberOfSignUps.describe()"
   ]
  },
  {
   "cell_type": "code",
   "execution_count": 154,
   "metadata": {
    "collapsed": false
   },
   "outputs": [
    {
     "data": {
      "image/png": "[encoded data removed]",
      "text/plain": [
       "<matplotlib.figure.Figure at 0xbb374f28>"
      ]
     },
     "metadata": {},
     "output_type": "display_data"
    }
   ],
   "source": [
    "# Visualizing the distribution of the number of days within which a user sends an invite\n",
    "# temp2.TotalNumberOfSignUps = temp_df.NoOfDays.astype(int)\n",
    "total_su = temp2.TotalNumberOfSignUps.value_counts()\n",
    "\n",
    "plt.figure(figsize=(12,8))\n",
    "sns.distplot(temp2[temp2.TotalNumberOfSignUps>0].TotalNumberOfSignUps)\n",
    "plt.xlabel('No of signups using the shared link', fontsize=14)\n",
    "\n",
    "del total_su"
   ]
  },
  {
   "cell_type": "raw",
   "metadata": {},
   "source": [
    "From this data, on an average 0.33 people signup using the link shared by users within 20 days of signing up on \n",
    "the platform. Using this approach there are a lot of people using whose link no one signed up. But if we consider only\n",
    "thise users using whose link atleast one person signs up, then the statistics change a lot with 7932 people signing up\n",
    "using the link of each user. The approach that we've used is biased towards few people depending on the order in which \n",
    "they appear in the dataset"
   ]
  },
  {
   "cell_type": "markdown",
   "metadata": {},
   "source": [
    "### Using the given data try to predict/extrapolate how number of user signups will grow in next 2 months."
   ]
  },
  {
   "cell_type": "code",
   "execution_count": 6,
   "metadata": {
    "collapsed": false
   },
   "outputs": [
    {
     "name": "stdout",
     "output_type": "stream",
     "text": [
      "26.9993981481\n"
     ]
    }
   ],
   "source": [
    "# For this we'll use the data given for new signups\n",
    "# First we'll see that how far are the time/date of signups spread ?\n",
    "\n",
    "print (max(data_newsignup.timeOfSignUp) - min(data_newsignup.timeOfSignUp)) / (60*60*24)"
   ]
  },
  {
   "cell_type": "raw",
   "metadata": {},
   "source": [
    "The data is spanned over a period of ~27 days"
   ]
  },
  {
   "cell_type": "code",
   "execution_count": 7,
   "metadata": {
    "collapsed": false
   },
   "outputs": [],
   "source": [
    "temp_df3 = data_newsignup[['timeOfSignUp']]"
   ]
  },
  {
   "cell_type": "code",
   "execution_count": 9,
   "metadata": {
    "collapsed": false
   },
   "outputs": [
    {
     "name": "stderr",
     "output_type": "stream",
     "text": [
      "C:\\Users\\a566280\\AppData\\Local\\Continuum\\Anaconda2\\lib\\site-packages\\ipykernel\\__main__.py:1: SettingWithCopyWarning: \n",
      "A value is trying to be set on a copy of a slice from a DataFrame.\n",
      "Try using .loc[row_indexer,col_indexer] = value instead\n",
      "\n",
      "See the caveats in the documentation: http://pandas.pydata.org/pandas-docs/stable/indexing.html#indexing-view-versus-copy\n",
      "  if __name__ == '__main__':\n"
     ]
    }
   ],
   "source": [
    "# Since we need a date time object in order to fit TS models, populating the data with dates incorporating the time of signup\n",
    "temp_df3['date'] = [datetime.strptime('05/01/1969', '%m/%d/%Y').date() + timedelta(seconds=float(item)) for item in temp_df3['timeOfSignUp']]"
   ]
  },
  {
   "cell_type": "code",
   "execution_count": 23,
   "metadata": {
    "collapsed": false
   },
   "outputs": [],
   "source": [
    "# temp_df3.head()\n",
    "time_series_data = pd.DataFrame()\n",
    "temp = temp_df3.groupby('date')['timeOfSignUp'].count()"
   ]
  },
  {
   "cell_type": "code",
   "execution_count": 24,
   "metadata": {
    "collapsed": false
   },
   "outputs": [],
   "source": [
    "time_series_data['date'] = temp.index\n",
    "time_series_data['NoOfUsers'] = temp.values\n",
    "del temp\n",
    "\n",
    "time_series_data.index = time_series_data.date\n",
    "\n",
    "time_series_data.drop(['date'],axis=1,inplace=True)\n",
    "del time_series_data.index.name\n",
    "\n",
    "time_series_data.index = pd.to_datetime(time_series_data.index)"
   ]
  },
  {
   "cell_type": "code",
   "execution_count": 30,
   "metadata": {
    "collapsed": false,
    "scrolled": true
   },
   "outputs": [
    {
     "data": {
      "text/plain": [
       "[<matplotlib.lines.Line2D at 0x3090d128>]"
      ]
     },
     "execution_count": 30,
     "metadata": {},
     "output_type": "execute_result"
    },
    {
     "data": {
      "image/png": "[encoded data removed]",
      "text/plain": [
       "<matplotlib.figure.Figure at 0x30581c50>"
      ]
     },
     "metadata": {},
     "output_type": "display_data"
    }
   ],
   "source": [
    "plt_time.plot(time_series_data)"
   ]
  },
  {
   "cell_type": "raw",
   "metadata": {},
   "source": [
    "I expected to see an upward trend here. But that does not seem to be the case. Anyway we'll go ahead with the tests of \n",
    "stationarity. We check stationarity because most of the TS models work on the assumption that the process is stationary"
   ]
  },
  {
   "cell_type": "code",
   "execution_count": null,
   "metadata": {
    "collapsed": true
   },
   "outputs": [],
   "source": [
    "from statsmodels.tsa.stattools import adfuller\n",
    "def test_stationarity(timeseries):\n",
    "    \n",
    "    #Determing rolling statistics\n",
    "    rolmean = pd.rolling_mean(timeseries, window=12)\n",
    "    rolstd = pd.rolling_std(timeseries, window=12)\n",
    "\n",
    "    #Plot rolling statistics:\n",
    "    orig = plt.plot(timeseries, color='blue',label='Original')\n",
    "    mean = plt.plot(rolmean, color='red', label='Rolling Mean')\n",
    "    std = plt.plot(rolstd, color='black', label = 'Rolling Std')\n",
    "    plt.legend(loc='best')\n",
    "    plt.title('Rolling Mean & Standard Deviation')\n",
    "    plt.show(block=False)\n",
    "    \n",
    "    #Perform Dickey-Fuller test:\n",
    "    print 'Results of Dickey-Fuller Test:'\n",
    "    dftest = adfuller(timeseries, autolag='AIC')\n",
    "    dfoutput = pd.Series(dftest[0:4], index=['Test Statistic','p-value','#Lags Used','Number of Observations Used'])\n",
    "    for key,value in dftest[4].items():\n",
    "        dfoutput['Critical Value (%s)'%key] = value\n",
    "    print dfoutput"
   ]
  },
  {
   "cell_type": "code",
   "execution_count": null,
   "metadata": {
    "collapsed": true
   },
   "outputs": [],
   "source": [
    "test_stationarity(time_series_data)"
   ]
  },
  {
   "cell_type": "markdown",
   "metadata": {},
   "source": [
    "#### If the time series is not satationary, we make it stationary through transformations"
   ]
  },
  {
   "cell_type": "raw",
   "metadata": {},
   "source": [
    "In order to do this we remove first estimate the trend and seasonal component from the original time series and subtract them to get a stationary series"
   ]
  },
  {
   "cell_type": "code",
   "execution_count": null,
   "metadata": {
    "collapsed": true
   },
   "outputs": [],
   "source": [
    "There are many built in methods in python to estimate trend\n",
    "We can use a moving average for this purpose or a weighted moving average for that purpose\n",
    "After estimating trend subtract this from the original time series\n",
    "\n",
    "We can simply decompose the time series and get the trend and the seasonality component.\n",
    "When we subtract these values from the original time series we get a stationar time series\n",
    "Then we can easily model the residuals after checking their stationarity\n",
    "\n"
   ]
  },
  {
   "cell_type": "markdown",
   "metadata": {},
   "source": [
    "I am not going forward with the implementation of this part as most of it has been described in theory above and is not\n",
    "very difficult once the data has been created. It'll also take some time to create the outputs. If you want me to go ahead and do the forecaseting I've no problem in doing so."
   ]
  },
  {
   "cell_type": "code",
   "execution_count": null,
   "metadata": {
    "collapsed": true
   },
   "outputs": [],
   "source": [
    "pd.read_sas('')"
   ]
  }
 ],
 "metadata": {
  "kernelspec": {
   "display_name": "Python 2",
   "language": "python",
   "name": "python2"
  },
  "language_info": {
   "codemirror_mode": {
    "name": "ipython",
    "version": 2
   },
   "file_extension": ".py",
   "mimetype": "text/x-python",
   "name": "python",
   "nbconvert_exporter": "python",
   "pygments_lexer": "ipython2",
   "version": "2.7.12"
  }
 },
 "nbformat": 4,
 "nbformat_minor": 0
}
